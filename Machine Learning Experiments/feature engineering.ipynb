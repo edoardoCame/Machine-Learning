{
 "cells": [
  {
   "cell_type": "code",
   "execution_count": 1,
   "metadata": {},
   "outputs": [],
   "source": [
    "import requests\n",
    "url = \"https://raw.githubusercontent.com/edoardoCame/PythonMiniTutorials/cf69ad87455d44e753ccecdf0f3932f83beb8288/Data%20Processing/csvReaderScript.py\"\n",
    "\n",
    "exec(requests.get(url).text)"
   ]
  },
  {
   "cell_type": "code",
   "execution_count": 2,
   "metadata": {},
   "outputs": [
    {
     "name": "stdout",
     "output_type": "stream",
     "text": [
      "                     brent 1m.csv  eurgbp-m1-bid-2024-01-01-2024-08-22.csv  \\\n",
      "timestamp                                                                    \n",
      "2024-01-02 01:00:00        77.638                                  0.86739   \n",
      "2024-01-02 01:01:00        77.923                                  0.86732   \n",
      "2024-01-02 01:03:00        78.018                                  0.86739   \n",
      "2024-01-02 01:04:00        78.163                                  0.86731   \n",
      "2024-01-02 01:06:00        78.343                                  0.86726   \n",
      "\n",
      "                     eurusd-m1-bid-2024-01-01-2024-09-09T16_31.csv  \\\n",
      "timestamp                                                            \n",
      "2024-01-02 01:00:00                                        1.10377   \n",
      "2024-01-02 01:01:00                                        1.10384   \n",
      "2024-01-02 01:03:00                                        1.10388   \n",
      "2024-01-02 01:04:00                                        1.10400   \n",
      "2024-01-02 01:06:00                                        1.10425   \n",
      "\n",
      "                     ustbondtrusd-m1-bid-2024-01-01-2024-09-09T16_27.csv  \\\n",
      "timestamp                                                                  \n",
      "2024-01-02 01:00:00                                            124.116     \n",
      "2024-01-02 01:01:00                                            124.112     \n",
      "2024-01-02 01:03:00                                            124.054     \n",
      "2024-01-02 01:04:00                                            124.083     \n",
      "2024-01-02 01:06:00                                            124.146     \n",
      "\n",
      "                     xauusd-m1-bid-2024-01-01-2024-09-09T16_33.csv  \n",
      "timestamp                                                           \n",
      "2024-01-02 01:00:00                                       2064.968  \n",
      "2024-01-02 01:01:00                                       2065.558  \n",
      "2024-01-02 01:03:00                                       2066.105  \n",
      "2024-01-02 01:04:00                                       2066.945  \n",
      "2024-01-02 01:06:00                                       2069.315  \n"
     ]
    }
   ],
   "source": [
    "path = r\"C:\\Users\\camere\\Conda_3.11_enviroment\\CSV DATA\\1min data\"\n",
    "myData = ReadCSVfiles(files_path=path, wannaprint=True)"
   ]
  },
  {
   "cell_type": "code",
   "execution_count": 3,
   "metadata": {},
   "outputs": [],
   "source": [
    "forward_returns = myData.pct_change(-14)\n",
    "past_returns = myData.pct_change()\n",
    "\n",
    "merged_df = pd.merge(past_returns, forward_returns, on='timestamp', how='right')\n",
    "myData['Gold/Sma14'] = myData['xauusd-m1-bid-2024-01-01-2024-09-09T16_33.csv'].rolling(14).mean() / myData['xauusd-m1-bid-2024-01-01-2024-09-09T16_33.csv']\n",
    "myData['Gold/Sma30'] = myData['xauusd-m1-bid-2024-01-01-2024-09-09T16_33.csv'].rolling(30).mean() / myData['xauusd-m1-bid-2024-01-01-2024-09-09T16_33.csv']\n",
    "myData['Gold/Sma60'] = myData['xauusd-m1-bid-2024-01-01-2024-09-09T16_33.csv'].rolling(60).mean() / myData['xauusd-m1-bid-2024-01-01-2024-09-09T16_33.csv']"
   ]
  },
  {
   "cell_type": "code",
   "execution_count": 4,
   "metadata": {},
   "outputs": [],
   "source": [
    "merged_df = pd.merge(merged_df, myData[['Gold/Sma14', 'Gold/Sma30', 'Gold/Sma60']], on='timestamp', how='right')\n",
    "merged_df.dropna(inplace=True)"
   ]
  },
  {
   "cell_type": "markdown",
   "metadata": {},
   "source": [
    "Next steps: convert everything into a numpy multidimensional array so that i can calculate quickly (with numba and prange) the various SMAs, and use the price/sma ratio as a feature. Then add other feature like rolling realized volatility, rolling returns (momentum)... And then create the model tree with pycaret."
   ]
  }
 ],
 "metadata": {
  "kernelspec": {
   "display_name": "Python 3",
   "language": "python",
   "name": "python3"
  },
  "language_info": {
   "codemirror_mode": {
    "name": "ipython",
    "version": 3
   },
   "file_extension": ".py",
   "mimetype": "text/x-python",
   "name": "python",
   "nbconvert_exporter": "python",
   "pygments_lexer": "ipython3",
   "version": "3.11.9"
  }
 },
 "nbformat": 4,
 "nbformat_minor": 2
}
