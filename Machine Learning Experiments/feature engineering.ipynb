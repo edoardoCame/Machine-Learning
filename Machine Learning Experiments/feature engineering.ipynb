{
 "cells": [
  {
   "cell_type": "code",
   "execution_count": 1,
   "metadata": {},
   "outputs": [],
   "source": [
    "import requests\n",
    "url = \"https://raw.githubusercontent.com/edoardoCame/PythonMiniTutorials/cf69ad87455d44e753ccecdf0f3932f83beb8288/Data%20Processing/csvReaderScript.py\"\n",
    "\n",
    "exec(requests.get(url).text)"
   ]
  },
  {
   "cell_type": "code",
   "execution_count": 2,
   "metadata": {},
   "outputs": [
    {
     "name": "stdout",
     "output_type": "stream",
     "text": [
      "                     brent 1m.csv  eurgbp-m1-bid-2024-01-01-2024-08-22.csv  \\\n",
      "timestamp                                                                    \n",
      "2024-01-02 01:00:00        77.638                                  0.86739   \n",
      "2024-01-02 01:01:00        77.923                                  0.86732   \n",
      "2024-01-02 01:03:00        78.018                                  0.86739   \n",
      "2024-01-02 01:04:00        78.163                                  0.86731   \n",
      "2024-01-02 01:06:00        78.343                                  0.86726   \n",
      "\n",
      "                     eurusd-m1-bid-2024-01-01-2024-09-09T16_31.csv  \\\n",
      "timestamp                                                            \n",
      "2024-01-02 01:00:00                                        1.10377   \n",
      "2024-01-02 01:01:00                                        1.10384   \n",
      "2024-01-02 01:03:00                                        1.10388   \n",
      "2024-01-02 01:04:00                                        1.10400   \n",
      "2024-01-02 01:06:00                                        1.10425   \n",
      "\n",
      "                     ustbondtrusd-m1-bid-2024-01-01-2024-09-09T16_27.csv  \\\n",
      "timestamp                                                                  \n",
      "2024-01-02 01:00:00                                            124.116     \n",
      "2024-01-02 01:01:00                                            124.112     \n",
      "2024-01-02 01:03:00                                            124.054     \n",
      "2024-01-02 01:04:00                                            124.083     \n",
      "2024-01-02 01:06:00                                            124.146     \n",
      "\n",
      "                     xauusd-m1-bid-2024-01-01-2024-09-09T16_33.csv  \n",
      "timestamp                                                           \n",
      "2024-01-02 01:00:00                                       2064.968  \n",
      "2024-01-02 01:01:00                                       2065.558  \n",
      "2024-01-02 01:03:00                                       2066.105  \n",
      "2024-01-02 01:04:00                                       2066.945  \n",
      "2024-01-02 01:06:00                                       2069.315  \n"
     ]
    }
   ],
   "source": [
    "path = r\"C:\\Users\\camere\\Conda_3.11_enviroment\\CSV DATA\\1min data\"\n",
    "myData = ReadCSVfiles(files_path=path, wannaprint=True)"
   ]
  },
  {
   "cell_type": "markdown",
   "metadata": {},
   "source": [
    "### Try multiple linear regression in cupy"
   ]
  },
  {
   "cell_type": "code",
   "execution_count": 3,
   "metadata": {},
   "outputs": [],
   "source": [
    "import cupy as cp\n",
    "import numpy as np\n",
    "import matplotlib.pyplot as plt"
   ]
  },
  {
   "cell_type": "code",
   "execution_count": 4,
   "metadata": {},
   "outputs": [
    {
     "name": "stdout",
     "output_type": "stream",
     "text": [
      "Features array shape: (108586, 4)\n",
      "Target array shape: (108586,)\n"
     ]
    }
   ],
   "source": [
    "#Create the arrays\n",
    "features = cp.array(myData.iloc[:, 1:])\n",
    "print(f\"Features array shape: {features.shape}\")\n",
    "target = cp.array(myData.iloc[:, 0])\n",
    "print(f\"Target array shape: {target.shape}\")"
   ]
  },
  {
   "cell_type": "code",
   "execution_count": 5,
   "metadata": {},
   "outputs": [
    {
     "name": "stdout",
     "output_type": "stream",
     "text": [
      "[[8.673900e-01 1.103770e+00 1.241160e+02 2.064968e+03]\n",
      " [8.673200e-01 1.103840e+00 1.241120e+02 2.065558e+03]\n",
      " [8.673900e-01 1.103880e+00 1.240540e+02 2.066105e+03]\n",
      " ...\n",
      " [8.518300e-01 1.115100e+00 1.249280e+02 2.511428e+03]\n",
      " [8.517700e-01 1.115030e+00 1.249570e+02 2.511508e+03]\n",
      " [8.517300e-01 1.115110e+00 1.249250e+02 2.512048e+03]]\n"
     ]
    }
   ],
   "source": [
    "print(features)"
   ]
  },
  {
   "cell_type": "code",
   "execution_count": 6,
   "metadata": {},
   "outputs": [
    {
     "name": "stdout",
     "output_type": "stream",
     "text": [
      "Coefficients: [ 2.37857895e+02 -6.71764348e-01 -7.03080599e+01 -7.31990865e-01\n",
      "  3.95277197e-03]\n",
      "Residuals: [661763.00167348]\n",
      "Rank: 5\n",
      "R-squared: 0.5543394114630387\n"
     ]
    }
   ],
   "source": [
    "# Add a column of ones to X to account for the intercept\n",
    "features = cp.hstack([cp.ones((features.shape[0], 1)), features])\n",
    "\n",
    "# Perform the linear least squares regression\n",
    "coefficients, residuals, rank, s = cp.linalg.lstsq(features, target, rcond=None)\n",
    "\n",
    "# Calculate the predicted values\n",
    "predictions = cp.dot(features, coefficients)\n",
    "\n",
    "# Calculate the total sum of squares (SS_tot)\n",
    "SS_tot = cp.sum((target - cp.mean(target)) ** 2)\n",
    "\n",
    "# Calculate the residual sum of squares (SS_res)\n",
    "SS_res = cp.sum((target - predictions) ** 2)\n",
    "\n",
    "# Calculate the R-squared value\n",
    "R_squared = 1 - (SS_res / SS_tot)\n",
    "\n",
    "# Print the coefficients and R-squared value\n",
    "print(\"Coefficients:\", coefficients)\n",
    "print(\"Residuals:\", residuals)\n",
    "print(\"Rank:\", rank)\n",
    "print(\"R-squared:\", R_squared)"
   ]
  },
  {
   "cell_type": "markdown",
   "metadata": {},
   "source": [
    "### continue feature engineering"
   ]
  },
  {
   "cell_type": "code",
   "execution_count": null,
   "metadata": {},
   "outputs": [],
   "source": [
    "forward_returns = myData.pct_change(-14)\n",
    "past_returns = myData.pct_change()\n",
    "\n",
    "merged_df = pd.merge(past_returns, forward_returns, on='timestamp', how='right')\n",
    "myData['Gold/Sma14'] = myData['xauusd-m1-bid-2024-01-01-2024-09-09T16_33.csv'].rolling(14).mean() / myData['xauusd-m1-bid-2024-01-01-2024-09-09T16_33.csv']\n",
    "myData['Gold/Sma30'] = myData['xauusd-m1-bid-2024-01-01-2024-09-09T16_33.csv'].rolling(30).mean() / myData['xauusd-m1-bid-2024-01-01-2024-09-09T16_33.csv']\n",
    "myData['Gold/Sma60'] = myData['xauusd-m1-bid-2024-01-01-2024-09-09T16_33.csv'].rolling(60).mean() / myData['xauusd-m1-bid-2024-01-01-2024-09-09T16_33.csv']"
   ]
  },
  {
   "cell_type": "code",
   "execution_count": null,
   "metadata": {},
   "outputs": [],
   "source": [
    "merged_df = pd.merge(merged_df, myData[['Gold/Sma14', 'Gold/Sma30', 'Gold/Sma60']], on='timestamp', how='right')\n",
    "merged_df.dropna(inplace=True)"
   ]
  },
  {
   "cell_type": "markdown",
   "metadata": {},
   "source": [
    "Next steps: convert everything into a numpy multidimensional array so that i can calculate quickly (with numba and prange) the various SMAs, and use the price/sma ratio as a feature. Then add other feature like rolling realized volatility, rolling returns (momentum)... And then create the model tree with pycaret."
   ]
  }
 ],
 "metadata": {
  "kernelspec": {
   "display_name": "Python 3",
   "language": "python",
   "name": "python3"
  },
  "language_info": {
   "codemirror_mode": {
    "name": "ipython",
    "version": 3
   },
   "file_extension": ".py",
   "mimetype": "text/x-python",
   "name": "python",
   "nbconvert_exporter": "python",
   "pygments_lexer": "ipython3",
   "version": "3.11.9"
  }
 },
 "nbformat": 4,
 "nbformat_minor": 2
}
