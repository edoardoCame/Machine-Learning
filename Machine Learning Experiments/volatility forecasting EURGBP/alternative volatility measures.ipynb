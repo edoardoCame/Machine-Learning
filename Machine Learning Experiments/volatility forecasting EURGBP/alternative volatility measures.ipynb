{
 "cells": [
  {
   "cell_type": "code",
   "execution_count": 10,
   "metadata": {},
   "outputs": [],
   "source": [
    "import cudf as cf\n",
    "\n",
    "eurgbp = cf.read_csv('/home/edoardocame/Desktop/python_dir/data/eurgbp-m1-bid-2015-01-01-2025-01-30T14:40.csv', index_col=0)\n",
    "eurgbp_after23 = eurgbp[eurgbp.index > '2023-01-01']"
   ]
  },
  {
   "cell_type": "markdown",
   "metadata": {},
   "source": [
    "### Huge classic: the Hurst Exponent"
   ]
  },
  {
   "cell_type": "code",
   "execution_count": null,
   "metadata": {},
   "outputs": [],
   "source": [
    "import cudf\n",
    "import cupy as cp\n",
    "\n",
    "\n",
    "# Calculate the Hurst exponent using cupy\n",
    "def compute_Hc_cupy(data, kind='price'):\n",
    "    N = len(data)\n",
    "    T = cp.arange(1, N + 1)\n",
    "    Y = cp.cumsum(data - cp.mean(data))\n",
    "    R = cp.max(Y) - cp.min(Y)\n",
    "    S = cp.std(data)\n",
    "    H = cp.log(R / S) / cp.log(T[-1])\n",
    "    return H.get()\n",
    "\n",
    "H_cupy = compute_Hc_cupy(cp.array(eurgbp_after23['close']))\n",
    "print(f\"Hurst exponent (cupy): {H_cupy}\")"
   ]
  },
  {
   "cell_type": "markdown",
   "metadata": {},
   "source": [
    "# Alternative methods"
   ]
  },
  {
   "cell_type": "markdown",
   "metadata": {},
   "source": [
    "Below is more information and examples for the two methods:\n",
    "\n",
    "### Range-Based Volatility  \n",
    "Range-based measures use the high and low prices to estimate volatility. They tend to be more efficient because they use more information than just closing prices. Two common estimators are:\n",
    "\n",
    "- **Parkinson Estimator:**  \n",
    "  Uses the high and low prices. Its formula is:  \n",
    "  σ² = (1 / (4 ln(2) T)) * Σ[ln(High/Low)]²  \n",
    "  It assumes zero drift and no opening/closing jumps.\n",
    "\n",
    "- **Rogers-Satchell Estimator:**  \n",
    "  Incorporates opening and closing prices along with the high and low. It can better handle assets with drift. Its formula is:  \n",
    "  σ² = ln(High/Close) * ln(High/Open) + ln(Low/Close) * ln(Low/Open)\n",
    "\n",
    "Example for Parkinson estimator:\n",
    "\n"
   ]
  },
  {
   "cell_type": "code",
   "execution_count": 12,
   "metadata": {},
   "outputs": [],
   "source": [
    "import numpy as np\n",
    "import pandas as pd\n",
    "\n",
    "def parkinson_volatility(high: pd.Series, low: pd.Series) -> float:\n",
    "    log_range = np.log(high / low)\n",
    "    squared_log_range = log_range ** 2\n",
    "    # 4 * ln(2) factor from the estimator\n",
    "    volatility_squared = squared_log_range.mean() / (4 * np.log(2))\n",
    "    return np.sqrt(volatility_squared)\n",
    "\n",
    "# Example usage:\n",
    "# data = pd.read_csv('eur_gbp_prices.csv', parse_dates=['Date'], index_col='Date')\n",
    "# volatility = parkinson_volatility(data['High'], data['Low'])\n",
    "# print(\"Parkinson Volatility:\", volatility)"
   ]
  },
  {
   "cell_type": "markdown",
   "metadata": {},
   "source": [
    "\n",
    "\n",
    "### Realized Volatility  \n",
    "Realized volatility uses high-frequency intraday data. By summing the squared returns within a day, you get a measure that reflects the day’s true volatility more directly. The formula is usually:  \n",
    "\n",
    "RV = sqrt(Σ r_t²)  \n",
    "\n",
    "where r_t represents high-frequency returns (e.g., 5-minute log returns).\n",
    "\n",
    "Example for calculating daily realized volatility from intraday data:\n",
    "\n"
   ]
  },
  {
   "cell_type": "code",
   "execution_count": 13,
   "metadata": {},
   "outputs": [],
   "source": [
    "import numpy as np\n",
    "import pandas as pd\n",
    "\n",
    "def realized_volatility(returns: pd.Series) -> float:\n",
    "    # Sum of squared returns in a day\n",
    "    rv = np.sqrt((returns ** 2).sum())\n",
    "    return rv\n",
    "\n",
    "# Example usage:\n",
    "# data = pd.read_csv('intraday_returns.csv', parse_dates=['Timestamp'], index_col='Timestamp')\n",
    "# # Group data by day and compute volatility for each day:\n",
    "# daily_vol = data.groupby(data.index.date)['Return'].apply(realized_volatility)\n",
    "# print(daily_vol)"
   ]
  },
  {
   "cell_type": "markdown",
   "metadata": {},
   "source": [
    "\n",
    "\n",
    "Each method has its assumptions and data needs. The range-based estimators are good with daily high/low (and possibly open/close) data, while realized volatility requires high-frequency data but can capture intraday fluctuations more accurately."
   ]
  },
  {
   "cell_type": "markdown",
   "metadata": {},
   "source": [
    "## Basic realized volatility"
   ]
  },
  {
   "cell_type": "code",
   "execution_count": null,
   "metadata": {},
   "outputs": [],
   "source": [
    "import cudf as cf\n",
    "\n",
    "eurgbp = cf.read_csv('/home/edoardocame/Desktop/python_dir/data/eurgbp-m1-bid-2015-01-01-2025-01-30T14:40.csv', index_col=0)\n"
   ]
  },
  {
   "cell_type": "markdown",
   "metadata": {},
   "source": [
    "## Realized volatilty based on bid-ask spread using tick data\n",
    "\n",
    "Here I want to quantify volatility via the bid-ask spread of the instrument. I'll use operations such as resampling."
   ]
  },
  {
   "cell_type": "code",
   "execution_count": null,
   "metadata": {},
   "outputs": [],
   "source": [
    "import cudf as cf\n",
    "\n",
    "eurgbp_tick = cf.read_csv('/home/edoardocame/Desktop/python_dir/data/tick_data/eurgbp-tick-2015-01-01-2025-02-03T16:47.csv')\n",
    "\n",
    "eurgbp_tick['timestamp'] = cf.to_datetime(eurgbp_tick['timestamp'])\n",
    "eurgbp_tick = eurgbp_tick.set_index('timestamp')\n",
    "\n",
    "eurgbp_tick['spread'] = eurgbp_tick['askPrice'] - eurgbp_tick['bidPrice']\n",
    "eurgbp_tick['spread'] = eurgbp_tick['spread'].abs() * 100000\n",
    "\n",
    "spreads = eurgbp_tick['spread']\n",
    "spreads = spreads.resample('D').sum().fillna(0)\n",
    "print(spreads.head())"
   ]
  },
  {
   "cell_type": "code",
   "execution_count": null,
   "metadata": {},
   "outputs": [],
   "source": [
    "spreads.to_pandas().plot()"
   ]
  }
 ],
 "metadata": {
  "kernelspec": {
   "display_name": "rapids-23.12",
   "language": "python",
   "name": "python3"
  },
  "language_info": {
   "codemirror_mode": {
    "name": "ipython",
    "version": 3
   },
   "file_extension": ".py",
   "mimetype": "text/x-python",
   "name": "python",
   "nbconvert_exporter": "python",
   "pygments_lexer": "ipython3",
   "version": "3.10.16"
  }
 },
 "nbformat": 4,
 "nbformat_minor": 2
}
