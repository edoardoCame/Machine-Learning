{
 "cells": [
  {
   "cell_type": "code",
   "execution_count": null,
   "metadata": {},
   "outputs": [],
   "source": [
    "import pandas as pd\n",
    "eurgbp = pd.read_csv('/home/edoardocame/Desktop/python_dir/data/eurgbp-m1-bid-2015-01-01-2025-01-30T14:40.csv',\n",
    "                    index_col=0, parse_dates=True)\n",
    "eurgbp['close'].plot()\n",
    "eurgbp['returns'] = eurgbp['close'].pct_change()    \n",
    "eurgbp['rolling_sd'] = eurgbp['returns'].rolling(1440).std()\n",
    "\n",
    "train, test = eurgbp['2015':'2018'], eurgbp['2019':]"
   ]
  },
  {
   "cell_type": "code",
   "execution_count": null,
   "metadata": {},
   "outputs": [],
   "source": [
    "from arch import arch_model\n",
    "am = arch_model(train['returns'].dropna())\n",
    "res = am.fit(update_freq=5)\n",
    "print(res.summary())\n",
    "\n",
    "# Forecasting\n",
    "forecast = res.forecast(horizon=len(test))\n",
    "test['forecasted_vol'] = forecast.variance.values[-1, :]\n",
    "\n",
    "# Plotting the forecasted volatility against the actual rolling standard deviation\n",
    "import matplotlib.pyplot as plt\n",
    "\n",
    "plt.figure(figsize=(10, 6))\n",
    "plt.plot(test.index, test['rolling_sd'], label='Actual Rolling SD')\n",
    "plt.plot(test.index, test['forecasted_vol'], label='Forecasted Volatility', linestyle='--')\n",
    "plt.legend()\n",
    "plt.show()\n"
   ]
  }
 ],
 "metadata": {
  "kernelspec": {
   "display_name": "rapids-23.12",
   "language": "python",
   "name": "python3"
  },
  "language_info": {
   "codemirror_mode": {
    "name": "ipython",
    "version": 3
   },
   "file_extension": ".py",
   "mimetype": "text/x-python",
   "name": "python",
   "nbconvert_exporter": "python",
   "pygments_lexer": "ipython3",
   "version": "3.10.16"
  }
 },
 "nbformat": 4,
 "nbformat_minor": 2
}
