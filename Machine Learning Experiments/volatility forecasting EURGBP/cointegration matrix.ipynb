{
 "cells": [
  {
   "cell_type": "markdown",
   "metadata": {},
   "source": [
    "# Introduction\n",
    "Here I read all forex pairs available on dukascopy node and I create a cointegration matrix."
   ]
  },
  {
   "cell_type": "code",
   "execution_count": null,
   "metadata": {},
   "outputs": [],
   "source": [
    "#Read all CSVs in a folder\n",
    "\n",
    "#WORK IN PROGRESS"
   ]
  },
  {
   "cell_type": "markdown",
   "metadata": {},
   "source": [
    "To test for cointegration in cuML, you can use the `cuml.tsa.coint` function. Here's a step-by-step guide:\n",
    "\n",
    "1. **Install cuML**: If you haven't already, install cuML using conda or pip.\n",
    "    ```sh\n",
    "    conda install -c rapidsai -c nvidia -c conda-forge cuml=21.06 python=3.8 cudatoolkit=11.2\n",
    "    ```\n",
    "\n",
    "2. **Import necessary libraries**: Import cuML and other necessary libraries.\n",
    "    ```python\n",
    "    import cuml\n",
    "    import cupy as cp\n",
    "    import pandas as pd\n",
    "    ```\n",
    "\n",
    "3. **Prepare your data**: Ensure your data is in a suitable format (e.g., pandas DataFrame or cupy array).\n",
    "\n",
    "4. **Perform the cointegration test**: Use the `cuml.tsa.coint` function to test for cointegration.\n",
    "\n",
    "Here's an example:\n",
    "\n"
   ]
  },
  {
   "cell_type": "code",
   "execution_count": null,
   "metadata": {},
   "outputs": [],
   "source": [
    "import cuml\n",
    "import cupy as cp\n",
    "import pandas as pd\n",
    "from cuml.tsa import coint\n",
    "\n",
    "# Example data\n",
    "data1 = cp.array([1, 2, 3, 4, 5, 6, 7, 8, 9, 10])\n",
    "data2 = cp.array([2, 4, 6, 8, 10, 12, 14, 16, 18, 20])\n",
    "\n",
    "# Perform cointegration test\n",
    "score, p_value, _ = coint(data1, data2)\n",
    "\n",
    "print(f\"Cointegration test score: {score}\")\n",
    "print(f\"p-value: {p_value}\")"
   ]
  },
  {
   "cell_type": "markdown",
   "metadata": {},
   "source": [
    "\n",
    "\n",
    "This code will test for cointegration between `data1` and `data2` and print the test score and p-value. Adjust the data arrays to fit your specific use case."
   ]
  }
 ],
 "metadata": {
  "kernelspec": {
   "display_name": "rapids-23.12",
   "language": "python",
   "name": "python3"
  },
  "language_info": {
   "name": "python",
   "version": "3.10.16"
  }
 },
 "nbformat": 4,
 "nbformat_minor": 2
}
