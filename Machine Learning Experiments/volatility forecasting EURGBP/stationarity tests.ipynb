{
 "cells": [
  {
   "cell_type": "code",
   "execution_count": 1,
   "metadata": {},
   "outputs": [],
   "source": [
    "import cudf as cf\n",
    "\n",
    "eurgbp = cf.read_csv('/home/edoardocame/Desktop/python_dir/data/eurgbp-m1-bid-2015-01-01-2025-01-30T14:40.csv', index_col=0)\n",
    "eurgbp_after23 = eurgbp[eurgbp.index > '2023-01-01']"
   ]
  },
  {
   "cell_type": "code",
   "execution_count": 2,
   "metadata": {},
   "outputs": [
    {
     "name": "stdout",
     "output_type": "stream",
     "text": [
      "Half-life of mean reversion: 50125.27560977508\n"
     ]
    },
    {
     "name": "stderr",
     "output_type": "stream",
     "text": [
      "/home/edoardocame/miniconda3/envs/rapids-23.12/lib/python3.10/site-packages/cuml/internals/api_decorators.py:382: UserWarning: Starting from version 23.08, the new 'copy_X' parameter defaults to 'True', ensuring a copy of X is created after passing it to fit(), preventing any changes to the input, but with increased memory usage. This represents a change in behavior from previous versions. With `copy_X=False` a copy might still be created if necessary. Explicitly set 'copy_X' to either True or False to suppress this warning.\n",
      "  return init_func(self, *args, **filtered_kwargs)\n",
      "/home/edoardocame/miniconda3/envs/rapids-23.12/lib/python3.10/site-packages/cuml/internals/api_decorators.py:190: UserWarning: Changing solver from 'eig' to 'svd' as eig solver does not support training data with 1 column currently.\n",
      "  return func(*args, **kwargs)\n"
     ]
    }
   ],
   "source": [
    "from cuml.linear_model import LinearRegression\n",
    "import cupy as cp\n",
    "\n",
    "# Create lagged price and compute the change (delta)\n",
    "df_ou = eurgbp_after23[['close']].copy()\n",
    "df_ou['lag'] = df_ou['close'].shift(1)\n",
    "df_ou['delta'] = df_ou['close'] - df_ou['lag']\n",
    "df_ou = df_ou.dropna()\n",
    "\n",
    "# Convert cudf Series to cupy arrays for regression\n",
    "X = df_ou['lag'].to_cupy().reshape(-1, 1)\n",
    "y = df_ou['delta'].to_cupy()\n",
    "\n",
    "# Fit the regression: delta = alpha + beta * lag\n",
    "model = LinearRegression()\n",
    "model.fit(X, y)\n",
    "beta = model.coef_[0]\n",
    "\n",
    "# Calculate the half-life of mean reversion\n",
    "half_life = -cp.log(2) / beta\n",
    "print(\"Half-life of mean reversion:\", half_life.get())"
   ]
  },
  {
   "cell_type": "code",
   "execution_count": 3,
   "metadata": {},
   "outputs": [
    {
     "name": "stdout",
     "output_type": "stream",
     "text": [
      "Hurst exponent (cupy): 0.9284973077652352\n"
     ]
    }
   ],
   "source": [
    "import cudf\n",
    "import cupy as cp\n",
    "\n",
    "\n",
    "# Calculate the Hurst exponent using cupy\n",
    "def compute_Hc_cupy(data, kind='price'):\n",
    "    N = len(data)\n",
    "    T = cp.arange(1, N + 1)\n",
    "    Y = cp.cumsum(data - cp.mean(data))\n",
    "    R = cp.max(Y) - cp.min(Y)\n",
    "    S = cp.std(data)\n",
    "    H = cp.log(R / S) / cp.log(T[-1])\n",
    "    return H.get()\n",
    "\n",
    "H_cupy = compute_Hc_cupy(cp.array(eurgbp_after23['close']))\n",
    "print(f\"Hurst exponent (cupy): {H_cupy}\")"
   ]
  }
 ],
 "metadata": {
  "kernelspec": {
   "display_name": "rapids-23.12",
   "language": "python",
   "name": "python3"
  },
  "language_info": {
   "codemirror_mode": {
    "name": "ipython",
    "version": 3
   },
   "file_extension": ".py",
   "mimetype": "text/x-python",
   "name": "python",
   "nbconvert_exporter": "python",
   "pygments_lexer": "ipython3",
   "version": "3.10.16"
  }
 },
 "nbformat": 4,
 "nbformat_minor": 2
}
